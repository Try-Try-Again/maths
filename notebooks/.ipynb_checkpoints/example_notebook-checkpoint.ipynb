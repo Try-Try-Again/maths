{
 "cells": [
  {
   "cell_type": "code",
   "execution_count": 8,
   "id": "important-giving",
   "metadata": {},
   "outputs": [
    {
     "data": {
      "text/plain": [
       "(2, 4)"
      ]
     },
     "execution_count": 8,
     "metadata": {},
     "output_type": "execute_result"
    }
   ],
   "source": [
    "#from sone_plus_one import one_plus_one\n",
    "from functions.one_plus_one import one_plus_one\n",
    "from functions.two_plus_two import two_plus_two\n",
    "\n",
    "one_plus_one(), two_plus_two()"
   ]
  },
  {
   "cell_type": "code",
   "execution_count": null,
   "id": "geographic-canada",
   "metadata": {},
   "outputs": [],
   "source": []
  }
 ],
 "metadata": {
  "kernelspec": {
   "display_name": "Python 3",
   "language": "python",
   "name": "python3"
  },
  "language_info": {
   "codemirror_mode": {
    "name": "ipython",
    "version": 3
   },
   "file_extension": ".py",
   "mimetype": "text/x-python",
   "name": "python",
   "nbconvert_exporter": "python",
   "pygments_lexer": "ipython3",
   "version": "3.6.9"
  }
 },
 "nbformat": 4,
 "nbformat_minor": 5
}
