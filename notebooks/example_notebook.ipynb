{
 "cells": [
  {
   "cell_type": "code",
   "execution_count": 1,
   "id": "referenced-panama",
   "metadata": {},
   "outputs": [
    {
     "data": {
      "text/plain": [
       "(2, 4)"
      ]
     },
     "execution_count": 1,
     "metadata": {},
     "output_type": "execute_result"
    }
   ],
   "source": [
    "#from sone_plus_one import one_plus_one\n",
    "from functions.one_plus_one import one_plus_one\n",
    "from functions.two_plus_two import two_plus_two\n",
    "\n",
    "one_plus_one(), two_plus_two()"
   ]
  },
  {
   "cell_type": "code",
   "execution_count": 2,
   "id": "behavioral-navigation",
   "metadata": {},
   "outputs": [
    {
     "data": {
      "text/plain": [
       "Fraction(4, 25)"
      ]
     },
     "execution_count": 2,
     "metadata": {},
     "output_type": "execute_result"
    }
   ],
   "source": [
    "from fractions import Fraction\n",
    "Fraction(2,5)**2\n"
   ]
  },
  {
   "cell_type": "code",
   "execution_count": 3,
   "id": "forced-ranch",
   "metadata": {},
   "outputs": [
    {
     "data": {
      "text/plain": [
       "0.0016000000000000003"
      ]
     },
     "execution_count": 3,
     "metadata": {},
     "output_type": "execute_result"
    }
   ],
   "source": [
    "0.2 ** 4"
   ]
  },
  {
   "cell_type": "code",
   "execution_count": 4,
   "id": "bearing-contents",
   "metadata": {},
   "outputs": [
    {
     "data": {
      "text/plain": [
       "Fraction(1, 16)"
      ]
     },
     "execution_count": 4,
     "metadata": {},
     "output_type": "execute_result"
    }
   ],
   "source": [
    "Fraction(1,2)**4"
   ]
  },
  {
   "cell_type": "code",
   "execution_count": 5,
   "id": "alpha-oxford",
   "metadata": {},
   "outputs": [
    {
     "data": {
      "text/plain": [
       "16"
      ]
     },
     "execution_count": 5,
     "metadata": {},
     "output_type": "execute_result"
    }
   ],
   "source": [
    "x=2\n",
    "5**x -3**x"
   ]
  },
  {
   "cell_type": "code",
   "execution_count": 6,
   "id": "danish-cycling",
   "metadata": {},
   "outputs": [
    {
     "data": {
      "text/plain": [
       "91"
      ]
     },
     "execution_count": 6,
     "metadata": {},
     "output_type": "execute_result"
    }
   ],
   "source": [
    "x=3\n",
    "y=4\n",
    "x**3 + y**3"
   ]
  },
  {
   "cell_type": "code",
   "execution_count": 7,
   "id": "printable-engineer",
   "metadata": {},
   "outputs": [
    {
     "data": {
      "text/plain": [
       "80"
      ]
     },
     "execution_count": 7,
     "metadata": {},
     "output_type": "execute_result"
    }
   ],
   "source": [
    "x=4\n",
    "x**3 + x**2"
   ]
  },
  {
   "cell_type": "code",
   "execution_count": 8,
   "id": "eastern-pitch",
   "metadata": {},
   "outputs": [],
   "source": [
    "from math import sqrt"
   ]
  },
  {
   "cell_type": "code",
   "execution_count": 9,
   "id": "public-equality",
   "metadata": {},
   "outputs": [
    {
     "data": {
      "text/plain": [
       "5.0"
      ]
     },
     "execution_count": 9,
     "metadata": {},
     "output_type": "execute_result"
    }
   ],
   "source": [
    "sqrt(25)"
   ]
  },
  {
   "cell_type": "code",
   "execution_count": 10,
   "id": "civic-procurement",
   "metadata": {},
   "outputs": [
    {
     "data": {
      "text/plain": [
       "4.242640687119285"
      ]
     },
     "execution_count": 10,
     "metadata": {},
     "output_type": "execute_result"
    }
   ],
   "source": [
    "sqrt(18)"
   ]
  },
  {
   "cell_type": "code",
   "execution_count": 11,
   "id": "silver-airplane",
   "metadata": {},
   "outputs": [
    {
     "ename": "SyntaxError",
     "evalue": "invalid syntax (<ipython-input-11-2653cb9c158f>, line 3)",
     "output_type": "error",
     "traceback": [
      "\u001b[0;36m  File \u001b[0;32m\"<ipython-input-11-2653cb9c158f>\"\u001b[0;36m, line \u001b[0;32m3\u001b[0m\n\u001b[0;31m    .\u001b[0m\n\u001b[0m    ^\u001b[0m\n\u001b[0;31mSyntaxError\u001b[0m\u001b[0;31m:\u001b[0m invalid syntax\n"
     ]
    }
   ],
   "source": [
    "#find the perfect square\n",
    "18 / (sqrt(18))\n",
    "."
   ]
  },
  {
   "cell_type": "code",
   "execution_count": null,
   "id": "authorized-dryer",
   "metadata": {},
   "outputs": [],
   "source": [
    "sqrt(75)"
   ]
  },
  {
   "cell_type": "code",
   "execution_count": 16,
   "id": "structured-milton",
   "metadata": {},
   "outputs": [
    {
     "data": {
      "text/plain": [
       "(15.0, 2.0)"
      ]
     },
     "execution_count": 16,
     "metadata": {},
     "output_type": "execute_result"
    }
   ],
   "source": [
    "from functions.simplify_square_root import simplify_square_root\n",
    "simplify_square_root(1, 450)"
   ]
  },
  {
   "cell_type": "code",
   "execution_count": null,
   "id": "challenging-founder",
   "metadata": {},
   "outputs": [],
   "source": []
  }
 ],
 "metadata": {
  "kernelspec": {
   "display_name": "Python 3",
   "language": "python",
   "name": "python3"
  },
  "language_info": {
   "codemirror_mode": {
    "name": "ipython",
    "version": 3
   },
   "file_extension": ".py",
   "mimetype": "text/x-python",
   "name": "python",
   "nbconvert_exporter": "python",
   "pygments_lexer": "ipython3",
   "version": "3.8.5"
  }
 },
 "nbformat": 4,
 "nbformat_minor": 5
}
